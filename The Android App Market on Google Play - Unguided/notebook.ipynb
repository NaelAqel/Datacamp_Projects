{
 "cells": [
  {
   "cell_type": "markdown",
   "id": "ffe29502",
   "metadata": {
    "dc": {
     "key": "4"
    },
    "deletable": false,
    "editable": false,
    "run_control": {
     "frozen": true
    },
    "tags": [
     "context"
    ]
   },
   "source": [
    "## 1. Introduction\n",
    "<p><img src=\"https://assets.datacamp.com/production/project_1197/img/google_play_store.png\" alt=\"Google Play logo\"></p>\n",
    "<p>Mobile apps are everywhere. They are easy to create and can be very lucrative from the business standpoint. Specifically, Android is expanding as an operating system and has captured more than 74% of the total market<sup><a href=\"https://www.statista.com/statistics/272698/global-market-share-held-by-mobile-operating-systems-since-2009\">[1]</a></sup>. </p>\n",
    "<p>The Google Play Store apps data has enormous potential to facilitate data-driven decisions and insights for businesses. In this notebook, we will analyze the Android app market by comparing ~10k apps in Google Play across different categories. We will also use the user reviews to draw a qualitative comparision between the apps.</p>\n",
    "<p>The dataset you will use here was scraped from Google Play Store in September 2018 and was published on <a href=\"https://www.kaggle.com/lava18/google-play-store-apps\">Kaggle</a>. Here are the details: <br>\n",
    "<br></p>\n",
    "<div style=\"background-color: #efebe4; color: #05192d; text-align:left; vertical-align: middle; padding: 15px 25px 15px 25px; line-height: 1.6;\">\n",
    "    <div style=\"font-size:20px\"><b>datasets/apps.csv</b></div>\n",
    "This file contains all the details of the apps on Google Play. There are 9 features that describe a given app.\n",
    "<ul>\n",
    "    <li><b>App:</b> Name of the app</li>\n",
    "    <li><b>Category:</b> Category of the app. Some examples are: ART_AND_DESIGN, FINANCE, COMICS, BEAUTY etc.</li>\n",
    "    <li><b>Rating:</b> The current average rating (out of 5) of the app on Google Play</li>\n",
    "    <li><b>Reviews:</b> Number of user reviews given on the app</li>\n",
    "    <li><b>Size:</b> Size of the app in MB (megabytes)</li>\n",
    "    <li><b>Installs:</b> Number of times the app was downloaded from Google Play</li>\n",
    "    <li><b>Type:</b> Whether the app is paid or free</li>\n",
    "    <li><b>Price:</b> Price of the app in US$</li>\n",
    "    <li><b>Last Updated:</b> Date on which the app was last updated on Google Play </li>\n",
    "\n",
    "</ul>\n",
    "</div>\n",
    "<div style=\"background-color: #efebe4; color: #05192d; text-align:left; vertical-align: middle; padding: 15px 25px 15px 25px; line-height: 1.6;\">\n",
    "    <div style=\"font-size:20px\"><b>datasets/user_reviews.csv</b></div>\n",
    "This file contains a random sample of 100 <i>[most helpful first](https://www.androidpolice.com/2019/01/21/google-play-stores-redesigned-ratings-and-reviews-section-lets-you-easily-filter-by-star-rating/)</i> user reviews for each app. The text in each review has been pre-processed and passed through a sentiment analyzer.\n",
    "<ul>\n",
    "    <li><b>App:</b> Name of the app on which the user review was provided. Matches the `App` column of the `apps.csv` file</li>\n",
    "    <li><b>Review:</b> The pre-processed user review text</li>\n",
    "    <li><b>Sentiment Category:</b> Sentiment category of the user review - Positive, Negative or Neutral</li>\n",
    "    <li><b>Sentiment Score:</b> Sentiment score of the user review. It lies between [-1,1]. A higher score denotes a more positive sentiment.</li>\n",
    "\n",
    "</ul>\n",
    "</div>\n",
    "<p>From here on, it will be your task to explore and manipulate the data until you are able to answer the three questions described in the instructions panel.<br></p>"
   ]
  },
  {
   "cell_type": "markdown",
   "id": "9c8d91d3",
   "metadata": {
    "dc": {
     "key": "4"
    }
   },
   "source": [
    "# Project Instructions  \n",
    "## Note: This Project is Unguided  \n",
    "You work as a Data Analyst for a finance company which is closely eyeing the Android market before it launches its new app into Google Play. You have been asked to present an analysis of Google Play apps so that the team gets a comprehensive overview of different categories of apps, their ratings, and other metrics.  \n",
    "\n",
    "This will require you to use your data manipulation and data analysis skills.  \n",
    "\n",
    "Your three questions are as follows:  \n",
    "1. **Read the `apps.csv` file and clean the `Installs` column to convert it into integer data type.** Save your answer as a DataFrame `apps`. Going forward, you will do all your analysis on the `apps` DataFrame.  \n",
    "2. **Find the number of apps in each category, the average price, and the average rating.** Save your answer as a DataFrame `app_category_info`. Your should rename the four columns as: `Category`, `Number of apps`, `Average price`, `Average rating`.\n",
    "3. **Find the top 10 free `FINANCE` apps having the highest average sentiment score.** Save your answer as a DataFrame `top_10_user_feedback`. Your answer should have exactly 10 rows and two columns named: `App` and `Sentiment Score`, where the average `Sentiment Score` is sorted from **highest to lowest**."
   ]
  },
  {
   "cell_type": "code",
   "execution_count": 1,
   "id": "72601b88",
   "metadata": {
    "dc": {
     "key": "4"
    },
    "tags": [
     "sample_code"
    ]
   },
   "outputs": [
    {
     "name": "stdout",
     "output_type": "stream",
     "text": [
      "<class 'pandas.core.frame.DataFrame'>\n",
      "RangeIndex: 9659 entries, 0 to 9658\n",
      "Data columns (total 9 columns):\n",
      " #   Column        Non-Null Count  Dtype  \n",
      "---  ------        --------------  -----  \n",
      " 0   App           9659 non-null   object \n",
      " 1   Category      9659 non-null   object \n",
      " 2   Rating        8196 non-null   float64\n",
      " 3   Reviews       9659 non-null   int64  \n",
      " 4   Size          8432 non-null   float64\n",
      " 5   Installs      9659 non-null   object \n",
      " 6   Type          9659 non-null   object \n",
      " 7   Price         9659 non-null   float64\n",
      " 8   Last Updated  9659 non-null   object \n",
      "dtypes: float64(3), int64(1), object(5)\n",
      "memory usage: 679.3+ KB\n"
     ]
    },
    {
     "data": {
      "text/plain": [
       "None"
      ]
     },
     "metadata": {},
     "output_type": "display_data"
    },
    {
     "data": {
      "text/html": [
       "<div>\n",
       "<style scoped>\n",
       "    .dataframe tbody tr th:only-of-type {\n",
       "        vertical-align: middle;\n",
       "    }\n",
       "\n",
       "    .dataframe tbody tr th {\n",
       "        vertical-align: top;\n",
       "    }\n",
       "\n",
       "    .dataframe thead th {\n",
       "        text-align: right;\n",
       "    }\n",
       "</style>\n",
       "<table border=\"1\" class=\"dataframe\">\n",
       "  <thead>\n",
       "    <tr style=\"text-align: right;\">\n",
       "      <th></th>\n",
       "      <th>App</th>\n",
       "      <th>Category</th>\n",
       "      <th>Rating</th>\n",
       "      <th>Reviews</th>\n",
       "      <th>Size</th>\n",
       "      <th>Installs</th>\n",
       "      <th>Type</th>\n",
       "      <th>Price</th>\n",
       "      <th>Last Updated</th>\n",
       "    </tr>\n",
       "  </thead>\n",
       "  <tbody>\n",
       "    <tr>\n",
       "      <th>0</th>\n",
       "      <td>Photo Editor &amp; Candy Camera &amp; Grid &amp; ScrapBook</td>\n",
       "      <td>ART_AND_DESIGN</td>\n",
       "      <td>4.1</td>\n",
       "      <td>159</td>\n",
       "      <td>19.0</td>\n",
       "      <td>10,000+</td>\n",
       "      <td>Free</td>\n",
       "      <td>0.0</td>\n",
       "      <td>January 7, 2018</td>\n",
       "    </tr>\n",
       "    <tr>\n",
       "      <th>1</th>\n",
       "      <td>Coloring book moana</td>\n",
       "      <td>ART_AND_DESIGN</td>\n",
       "      <td>3.9</td>\n",
       "      <td>967</td>\n",
       "      <td>14.0</td>\n",
       "      <td>500,000+</td>\n",
       "      <td>Free</td>\n",
       "      <td>0.0</td>\n",
       "      <td>January 15, 2018</td>\n",
       "    </tr>\n",
       "    <tr>\n",
       "      <th>2</th>\n",
       "      <td>U Launcher Lite – FREE Live Cool Themes, Hide ...</td>\n",
       "      <td>ART_AND_DESIGN</td>\n",
       "      <td>4.7</td>\n",
       "      <td>87510</td>\n",
       "      <td>8.7</td>\n",
       "      <td>5,000,000+</td>\n",
       "      <td>Free</td>\n",
       "      <td>0.0</td>\n",
       "      <td>August 1, 2018</td>\n",
       "    </tr>\n",
       "    <tr>\n",
       "      <th>3</th>\n",
       "      <td>Sketch - Draw &amp; Paint</td>\n",
       "      <td>ART_AND_DESIGN</td>\n",
       "      <td>4.5</td>\n",
       "      <td>215644</td>\n",
       "      <td>25.0</td>\n",
       "      <td>50,000,000+</td>\n",
       "      <td>Free</td>\n",
       "      <td>0.0</td>\n",
       "      <td>June 8, 2018</td>\n",
       "    </tr>\n",
       "    <tr>\n",
       "      <th>4</th>\n",
       "      <td>Pixel Draw - Number Art Coloring Book</td>\n",
       "      <td>ART_AND_DESIGN</td>\n",
       "      <td>4.3</td>\n",
       "      <td>967</td>\n",
       "      <td>2.8</td>\n",
       "      <td>100,000+</td>\n",
       "      <td>Free</td>\n",
       "      <td>0.0</td>\n",
       "      <td>June 20, 2018</td>\n",
       "    </tr>\n",
       "  </tbody>\n",
       "</table>\n",
       "</div>"
      ],
      "text/plain": [
       "                                                 App        Category  Rating  \\\n",
       "0     Photo Editor & Candy Camera & Grid & ScrapBook  ART_AND_DESIGN     4.1   \n",
       "1                                Coloring book moana  ART_AND_DESIGN     3.9   \n",
       "2  U Launcher Lite – FREE Live Cool Themes, Hide ...  ART_AND_DESIGN     4.7   \n",
       "3                              Sketch - Draw & Paint  ART_AND_DESIGN     4.5   \n",
       "4              Pixel Draw - Number Art Coloring Book  ART_AND_DESIGN     4.3   \n",
       "\n",
       "   Reviews  Size     Installs  Type  Price      Last Updated  \n",
       "0      159  19.0      10,000+  Free    0.0   January 7, 2018  \n",
       "1      967  14.0     500,000+  Free    0.0  January 15, 2018  \n",
       "2    87510   8.7   5,000,000+  Free    0.0    August 1, 2018  \n",
       "3   215644  25.0  50,000,000+  Free    0.0      June 8, 2018  \n",
       "4      967   2.8     100,000+  Free    0.0     June 20, 2018  "
      ]
     },
     "execution_count": 1,
     "metadata": {},
     "output_type": "execute_result"
    }
   ],
   "source": [
    "# Use this cell to begin your analysis, and add as many as you would like!\n",
    "\n",
    "# Import pandas\n",
    "import pandas as pd\n",
    "\n",
    "# Load apps.csv file \n",
    "apps = pd.read_csv('datasets/apps.csv')\n",
    "\n",
    "# lets see the info and first 5 rows\n",
    "display(apps.info())\n",
    "apps.head()"
   ]
  },
  {
   "cell_type": "code",
   "execution_count": 2,
   "id": "0da9df49",
   "metadata": {
    "dc": {
     "key": "4"
    }
   },
   "outputs": [
    {
     "data": {
      "text/plain": [
       "dtype('int64')"
      ]
     },
     "execution_count": 2,
     "metadata": {},
     "output_type": "execute_result"
    }
   ],
   "source": [
    "# Question 1\n",
    "\n",
    "# Installs contains \",\" and \"+\" characters, lets put it in a list\n",
    "chars_to_remove = [\",\" , \"+\"]\n",
    "\n",
    "# Loop for each char in chars_to_remove\n",
    "for char in chars_to_remove:\n",
    "    # Replace the character with an empty string\n",
    "    apps[\"Installs\"] = apps[\"Installs\"].apply(lambda x: x.replace(char, \"\"))\n",
    "        \n",
    "# Now we will convert object to integer\n",
    "apps[\"Installs\"] = apps[\"Installs\"].astype(int)\n",
    "\n",
    "# Check data type\n",
    "apps[\"Installs\"].dtype"
   ]
  },
  {
   "cell_type": "code",
   "execution_count": 3,
   "id": "7c9cf2ce",
   "metadata": {
    "dc": {
     "key": "4"
    }
   },
   "outputs": [
    {
     "data": {
      "text/html": [
       "<div>\n",
       "<style scoped>\n",
       "    .dataframe tbody tr th:only-of-type {\n",
       "        vertical-align: middle;\n",
       "    }\n",
       "\n",
       "    .dataframe tbody tr th {\n",
       "        vertical-align: top;\n",
       "    }\n",
       "\n",
       "    .dataframe thead th {\n",
       "        text-align: right;\n",
       "    }\n",
       "</style>\n",
       "<table border=\"1\" class=\"dataframe\">\n",
       "  <thead>\n",
       "    <tr style=\"text-align: right;\">\n",
       "      <th></th>\n",
       "      <th>Number of apps</th>\n",
       "      <th>Average price</th>\n",
       "      <th>Average rating</th>\n",
       "    </tr>\n",
       "    <tr>\n",
       "      <th>Category</th>\n",
       "      <th></th>\n",
       "      <th></th>\n",
       "      <th></th>\n",
       "    </tr>\n",
       "  </thead>\n",
       "  <tbody>\n",
       "    <tr>\n",
       "      <th>ART_AND_DESIGN</th>\n",
       "      <td>64</td>\n",
       "      <td>0.093281</td>\n",
       "      <td>4.357377</td>\n",
       "    </tr>\n",
       "    <tr>\n",
       "      <th>AUTO_AND_VEHICLES</th>\n",
       "      <td>85</td>\n",
       "      <td>0.158471</td>\n",
       "      <td>4.190411</td>\n",
       "    </tr>\n",
       "    <tr>\n",
       "      <th>BEAUTY</th>\n",
       "      <td>53</td>\n",
       "      <td>0.000000</td>\n",
       "      <td>4.278571</td>\n",
       "    </tr>\n",
       "    <tr>\n",
       "      <th>BOOKS_AND_REFERENCE</th>\n",
       "      <td>222</td>\n",
       "      <td>0.539505</td>\n",
       "      <td>4.344970</td>\n",
       "    </tr>\n",
       "    <tr>\n",
       "      <th>BUSINESS</th>\n",
       "      <td>420</td>\n",
       "      <td>0.417357</td>\n",
       "      <td>4.098479</td>\n",
       "    </tr>\n",
       "  </tbody>\n",
       "</table>\n",
       "</div>"
      ],
      "text/plain": [
       "                     Number of apps  Average price  Average rating\n",
       "Category                                                          \n",
       "ART_AND_DESIGN                   64       0.093281        4.357377\n",
       "AUTO_AND_VEHICLES                85       0.158471        4.190411\n",
       "BEAUTY                           53       0.000000        4.278571\n",
       "BOOKS_AND_REFERENCE             222       0.539505        4.344970\n",
       "BUSINESS                        420       0.417357        4.098479"
      ]
     },
     "execution_count": 3,
     "metadata": {},
     "output_type": "execute_result"
    }
   ],
   "source": [
    "# Question 2\n",
    "# We will start to group our apps per category and apply functions as requested using agg()\n",
    "app_category_info = apps.groupby(\"Category\").agg({\n",
    "    \"App\":\"count\", \"Price\":\"mean\", \"Rating\":\"mean\"\n",
    "})\n",
    "\n",
    "# Rename columns\n",
    "app_category_info = app_category_info.rename(columns={\n",
    "    \"App\":\"Number of apps\", \"Price\":\"Average price\", \"Rating\":\"Average rating\"\n",
    "})\n",
    "\n",
    "# Show fitst rows\n",
    "app_category_info.head()"
   ]
  },
  {
   "cell_type": "code",
   "execution_count": 4,
   "id": "d0218a9f",
   "metadata": {
    "dc": {
     "key": "4"
    }
   },
   "outputs": [
    {
     "name": "stdout",
     "output_type": "stream",
     "text": [
      "<class 'pandas.core.frame.DataFrame'>\n",
      "RangeIndex: 64295 entries, 0 to 64294\n",
      "Data columns (total 4 columns):\n",
      " #   Column              Non-Null Count  Dtype  \n",
      "---  ------              --------------  -----  \n",
      " 0   App                 64295 non-null  object \n",
      " 1   Review              37427 non-null  object \n",
      " 2   Sentiment Category  37432 non-null  object \n",
      " 3   Sentiment Score     37432 non-null  float64\n",
      "dtypes: float64(1), object(3)\n",
      "memory usage: 2.0+ MB\n"
     ]
    },
    {
     "data": {
      "text/plain": [
       "None"
      ]
     },
     "metadata": {},
     "output_type": "display_data"
    },
    {
     "data": {
      "text/html": [
       "<div>\n",
       "<style scoped>\n",
       "    .dataframe tbody tr th:only-of-type {\n",
       "        vertical-align: middle;\n",
       "    }\n",
       "\n",
       "    .dataframe tbody tr th {\n",
       "        vertical-align: top;\n",
       "    }\n",
       "\n",
       "    .dataframe thead th {\n",
       "        text-align: right;\n",
       "    }\n",
       "</style>\n",
       "<table border=\"1\" class=\"dataframe\">\n",
       "  <thead>\n",
       "    <tr style=\"text-align: right;\">\n",
       "      <th></th>\n",
       "      <th>App</th>\n",
       "      <th>Review</th>\n",
       "      <th>Sentiment Category</th>\n",
       "      <th>Sentiment Score</th>\n",
       "    </tr>\n",
       "  </thead>\n",
       "  <tbody>\n",
       "    <tr>\n",
       "      <th>0</th>\n",
       "      <td>10 Best Foods for You</td>\n",
       "      <td>I like eat delicious food. That's I'm cooking ...</td>\n",
       "      <td>Positive</td>\n",
       "      <td>1.00</td>\n",
       "    </tr>\n",
       "    <tr>\n",
       "      <th>1</th>\n",
       "      <td>10 Best Foods for You</td>\n",
       "      <td>This help eating healthy exercise regular basis</td>\n",
       "      <td>Positive</td>\n",
       "      <td>0.25</td>\n",
       "    </tr>\n",
       "    <tr>\n",
       "      <th>2</th>\n",
       "      <td>10 Best Foods for You</td>\n",
       "      <td>NaN</td>\n",
       "      <td>NaN</td>\n",
       "      <td>NaN</td>\n",
       "    </tr>\n",
       "    <tr>\n",
       "      <th>3</th>\n",
       "      <td>10 Best Foods for You</td>\n",
       "      <td>Works great especially going grocery store</td>\n",
       "      <td>Positive</td>\n",
       "      <td>0.40</td>\n",
       "    </tr>\n",
       "    <tr>\n",
       "      <th>4</th>\n",
       "      <td>10 Best Foods for You</td>\n",
       "      <td>Best idea us</td>\n",
       "      <td>Positive</td>\n",
       "      <td>1.00</td>\n",
       "    </tr>\n",
       "  </tbody>\n",
       "</table>\n",
       "</div>"
      ],
      "text/plain": [
       "                     App                                             Review  \\\n",
       "0  10 Best Foods for You  I like eat delicious food. That's I'm cooking ...   \n",
       "1  10 Best Foods for You    This help eating healthy exercise regular basis   \n",
       "2  10 Best Foods for You                                                NaN   \n",
       "3  10 Best Foods for You         Works great especially going grocery store   \n",
       "4  10 Best Foods for You                                       Best idea us   \n",
       "\n",
       "  Sentiment Category  Sentiment Score  \n",
       "0           Positive             1.00  \n",
       "1           Positive             0.25  \n",
       "2                NaN              NaN  \n",
       "3           Positive             0.40  \n",
       "4           Positive             1.00  "
      ]
     },
     "execution_count": 4,
     "metadata": {},
     "output_type": "execute_result"
    }
   ],
   "source": [
    "# Question 3\n",
    "# Now we will Load user_reviews.csv\n",
    "reviews_df = pd.read_csv(\"datasets/user_reviews.csv\")\n",
    "\n",
    "# lets see the info and first 5 rows\n",
    "display(reviews_df.info())\n",
    "reviews_df.head()"
   ]
  },
  {
   "cell_type": "code",
   "execution_count": 5,
   "id": "3b1b6275",
   "metadata": {
    "dc": {
     "key": "4"
    }
   },
   "outputs": [
    {
     "data": {
      "text/html": [
       "<div>\n",
       "<style scoped>\n",
       "    .dataframe tbody tr th:only-of-type {\n",
       "        vertical-align: middle;\n",
       "    }\n",
       "\n",
       "    .dataframe tbody tr th {\n",
       "        vertical-align: top;\n",
       "    }\n",
       "\n",
       "    .dataframe thead th {\n",
       "        text-align: right;\n",
       "    }\n",
       "</style>\n",
       "<table border=\"1\" class=\"dataframe\">\n",
       "  <thead>\n",
       "    <tr style=\"text-align: right;\">\n",
       "      <th></th>\n",
       "      <th>Sentiment Score</th>\n",
       "    </tr>\n",
       "    <tr>\n",
       "      <th>App</th>\n",
       "      <th></th>\n",
       "    </tr>\n",
       "  </thead>\n",
       "  <tbody>\n",
       "    <tr>\n",
       "      <th>BBVA Spain</th>\n",
       "      <td>0.515086</td>\n",
       "    </tr>\n",
       "    <tr>\n",
       "      <th>Associated Credit Union Mobile</th>\n",
       "      <td>0.388093</td>\n",
       "    </tr>\n",
       "    <tr>\n",
       "      <th>BankMobile Vibe App</th>\n",
       "      <td>0.353455</td>\n",
       "    </tr>\n",
       "    <tr>\n",
       "      <th>A+ Mobile</th>\n",
       "      <td>0.329592</td>\n",
       "    </tr>\n",
       "    <tr>\n",
       "      <th>Current debit card and app made for teens</th>\n",
       "      <td>0.327258</td>\n",
       "    </tr>\n",
       "    <tr>\n",
       "      <th>BZWBK24 mobile</th>\n",
       "      <td>0.326883</td>\n",
       "    </tr>\n",
       "    <tr>\n",
       "      <th>Even - organize your money, get paid early</th>\n",
       "      <td>0.283929</td>\n",
       "    </tr>\n",
       "    <tr>\n",
       "      <th>Credit Karma</th>\n",
       "      <td>0.270052</td>\n",
       "    </tr>\n",
       "    <tr>\n",
       "      <th>Fortune City - A Finance App</th>\n",
       "      <td>0.266966</td>\n",
       "    </tr>\n",
       "    <tr>\n",
       "      <th>Branch</th>\n",
       "      <td>0.264230</td>\n",
       "    </tr>\n",
       "  </tbody>\n",
       "</table>\n",
       "</div>"
      ],
      "text/plain": [
       "                                            Sentiment Score\n",
       "App                                                        \n",
       "BBVA Spain                                         0.515086\n",
       "Associated Credit Union Mobile                     0.388093\n",
       "BankMobile Vibe App                                0.353455\n",
       "A+ Mobile                                          0.329592\n",
       "Current debit card and app made for teens          0.327258\n",
       "BZWBK24 mobile                                     0.326883\n",
       "Even - organize your money, get paid early         0.283929\n",
       "Credit Karma                                       0.270052\n",
       "Fortune City - A Finance App                       0.266966\n",
       "Branch                                             0.264230"
      ]
     },
     "execution_count": 5,
     "metadata": {},
     "output_type": "execute_result"
    }
   ],
   "source": [
    "# Filter for type \"Free\" apps with Category \"FINANCE\"\n",
    "free_finance = apps[(apps[\"Category\"] == \"FINANCE\") & (apps[\"Type\"] == \"Free\")]\n",
    "\n",
    "# Join the two dataframes\n",
    "merged_df = pd.merge(free_finance, reviews_df, on=\"App\")\n",
    "\n",
    "# Now group by App , we will not use App as index\n",
    "scores = merged_df.groupby(\"App\").agg({\"Sentiment Score\":\"mean\"})\n",
    "\n",
    "# Sorting Descending with resetting index so we can choose only first 10 indexies\n",
    "scores_sorted = scores.sort_values(\"Sentiment Score\", ascending=False)\n",
    "\n",
    "# select top 10 indecies\n",
    "top_10_user_feedback = scores_sorted.iloc[:10]\n",
    "top_10_user_feedback"
   ]
  }
 ],
 "metadata": {
  "kernelspec": {
   "display_name": "Python 3 (ipykernel)",
   "language": "python",
   "name": "python3"
  },
  "language_info": {
   "codemirror_mode": {
    "name": "ipython",
    "version": 3
   },
   "file_extension": ".py",
   "mimetype": "text/x-python",
   "name": "python",
   "nbconvert_exporter": "python",
   "pygments_lexer": "ipython3",
   "version": "3.8.10"
  }
 },
 "nbformat": 4,
 "nbformat_minor": 5
}
